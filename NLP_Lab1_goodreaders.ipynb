{
  "nbformat": 4,
  "nbformat_minor": 0,
  "metadata": {
    "colab": {
      "provenance": [],
      "authorship_tag": "ABX9TyNrhskl2Uj6xdehUr+maqre",
      "include_colab_link": true
    },
    "kernelspec": {
      "name": "python3",
      "display_name": "Python 3"
    },
    "language_info": {
      "name": "python"
    }
  },
  "cells": [
    {
      "cell_type": "markdown",
      "metadata": {
        "id": "view-in-github",
        "colab_type": "text"
      },
      "source": [
        "<a href=\"https://colab.research.google.com/github/MsAraa19/NLP/blob/main/NLP_Lab1_goodreaders.ipynb\" target=\"_parent\"><img src=\"https://colab.research.google.com/assets/colab-badge.svg\" alt=\"Open In Colab\"/></a>"
      ]
    },
    {
      "cell_type": "markdown",
      "source": [
        "# Part 1: Loading and Cleaning with Pandas"
      ],
      "metadata": {
        "id": "vzved_Avik7n"
      }
    },
    {
      "cell_type": "code",
      "execution_count": 2,
      "metadata": {
        "colab": {
          "base_uri": "https://localhost:8080/"
        },
        "id": "F_m2Z7DPicng",
        "outputId": "202459fe-b0d9-4f19-ad04-fa5c286361a2"
      },
      "outputs": [
        {
          "output_type": "stream",
          "name": "stdout",
          "text": [
            "First few rows of the dataset:\n",
            "   rating  review_count        isbn         booktype                                         author_url    year                                         genre_urls                                                dir  rating_count                                               name\n",
            "0    4.40      136455.0  0439023483  good_reads:book  https://www.goodreads.com/author/show/153394.S...  2008.0  /genres/young-adult|/genres/science-fiction|/g...                dir01/2767052-the-hunger-games.html     2958974.0            The Hunger Games (The Hunger Games, #1)\n",
            "1    4.41       16648.0  0439358078  good_reads:book  https://www.goodreads.com/author/show/1077326....  2003.0  /genres/fantasy|/genres/young-adult|/genres/fi...  dir01/2.Harry_Potter_and_the_Order_of_the_Phoe...     1284478.0  Harry Potter and the Order of the Phoenix (Har...\n",
            "2    3.56       85746.0  0316015849  good_reads:book  https://www.goodreads.com/author/show/941441.S...  2005.0  /genres/young-adult|/genres/fantasy|/genres/ro...                          dir01/41865.Twilight.html     2579564.0                            Twilight (Twilight, #1)\n",
            "3    4.23       47906.0  0061120081  good_reads:book  https://www.goodreads.com/author/show/1825.Har...  1960.0  /genres/classics|/genres/fiction|/genres/histo...              dir01/2657.To_Kill_a_Mockingbird.html     2078123.0                              To Kill a Mockingbird\n",
            "4    4.23       34772.0  0679783261  good_reads:book  https://www.goodreads.com/author/show/1265.Jan...  1813.0  /genres/classics|/genres/fiction|/genres/roman...                dir01/1885.Pride_and_Prejudice.html     1388992.0                                Pride and Prejudice\n"
          ]
        }
      ],
      "source": [
        "%matplotlib inline\n",
        "import numpy as np\n",
        "import matplotlib.pyplot as plt\n",
        "import pandas as pd\n",
        "import seaborn as sns\n",
        "\n",
        "# Set display options for Pandas\n",
        "pd.set_option('display.width', 500)\n",
        "pd.set_option('display.max_columns', 100)\n",
        "\n",
        "# Define column names\n",
        "column_names = [\"rating\", \"review_count\", \"isbn\", \"booktype\", \"author_url\",\n",
        "                \"year\", \"genre_urls\", \"dir\", \"rating_count\", \"name\"]\n",
        "\n",
        "# Load the dataset with proper column names\n",
        "df = pd.read_csv(\"/content/goodreads.csv\", names=column_names, header=None)\n",
        "\n",
        "# Inspect the data\n",
        "print(\"First few rows of the dataset:\")\n",
        "print(df.head())"
      ]
    },
    {
      "cell_type": "code",
      "source": [
        "print(\"\\nDataset info:\")\n",
        "df.info()"
      ],
      "metadata": {
        "colab": {
          "base_uri": "https://localhost:8080/"
        },
        "id": "fq6B19nci9OQ",
        "outputId": "7b3471e5-4c04-406e-fcc7-feaa0011f1d4"
      },
      "execution_count": 3,
      "outputs": [
        {
          "output_type": "stream",
          "name": "stdout",
          "text": [
            "\n",
            "Dataset info:\n",
            "<class 'pandas.core.frame.DataFrame'>\n",
            "RangeIndex: 6000 entries, 0 to 5999\n",
            "Data columns (total 10 columns):\n",
            " #   Column        Non-Null Count  Dtype  \n",
            "---  ------        --------------  -----  \n",
            " 0   rating        5998 non-null   float64\n",
            " 1   review_count  5998 non-null   float64\n",
            " 2   isbn          5523 non-null   object \n",
            " 3   booktype      5998 non-null   object \n",
            " 4   author_url    5998 non-null   object \n",
            " 5   year          5993 non-null   float64\n",
            " 6   genre_urls    5938 non-null   object \n",
            " 7   dir           6000 non-null   object \n",
            " 8   rating_count  5998 non-null   float64\n",
            " 9   name          5998 non-null   object \n",
            "dtypes: float64(4), object(6)\n",
            "memory usage: 468.9+ KB\n"
          ]
        }
      ]
    },
    {
      "cell_type": "code",
      "source": [
        "# Check for missing values\n",
        "print(\"\\nMissing values by column:\")\n",
        "print(df.isnull().sum())"
      ],
      "metadata": {
        "colab": {
          "base_uri": "https://localhost:8080/"
        },
        "id": "pVm_bco5i-YU",
        "outputId": "375ba80e-5f5e-4c84-8522-6bc5339d1e1d"
      },
      "execution_count": 4,
      "outputs": [
        {
          "output_type": "stream",
          "name": "stdout",
          "text": [
            "\n",
            "Missing values by column:\n",
            "rating            2\n",
            "review_count      2\n",
            "isbn            477\n",
            "booktype          2\n",
            "author_url        2\n",
            "year              7\n",
            "genre_urls       62\n",
            "dir               0\n",
            "rating_count      2\n",
            "name              2\n",
            "dtype: int64\n"
          ]
        }
      ]
    },
    {
      "cell_type": "code",
      "source": [
        "# Handle missing values\n",
        "df = df.dropna(subset=[\"year\"])  # Drop rows with missing 'year'\n",
        "\n",
        "# Convert columns to numeric and handle invalid data\n",
        "int_columns = [\"year\", \"rating_count\", \"review_count\"]\n",
        "for col in int_columns:\n",
        "    df[col] = pd.to_numeric(df[col], errors='coerce')\n",
        "    df = df[df[col].notnull()]  # Drop rows with NaN after conversion\n",
        "    df[col] = df[col].astype(int)\n",
        "\n",
        "# Fill missing strings with empty values\n",
        "df[\"genre_urls\"].fillna(\"\", inplace=True)\n",
        "df[\"isbn\"].fillna(\"\", inplace=True)\n",
        "\n",
        "print(\"\\nUpdated dataset info:\")\n",
        "df.info()"
      ],
      "metadata": {
        "colab": {
          "base_uri": "https://localhost:8080/"
        },
        "id": "JdG31DRtjA7_",
        "outputId": "03c35406-04d2-4aa7-bc70-cf26a0bca13a"
      },
      "execution_count": 5,
      "outputs": [
        {
          "output_type": "stream",
          "name": "stdout",
          "text": [
            "\n",
            "Updated dataset info:\n",
            "<class 'pandas.core.frame.DataFrame'>\n",
            "Index: 5993 entries, 0 to 5999\n",
            "Data columns (total 10 columns):\n",
            " #   Column        Non-Null Count  Dtype  \n",
            "---  ------        --------------  -----  \n",
            " 0   rating        5993 non-null   float64\n",
            " 1   review_count  5993 non-null   int64  \n",
            " 2   isbn          5993 non-null   object \n",
            " 3   booktype      5993 non-null   object \n",
            " 4   author_url    5993 non-null   object \n",
            " 5   year          5993 non-null   int64  \n",
            " 6   genre_urls    5993 non-null   object \n",
            " 7   dir           5993 non-null   object \n",
            " 8   rating_count  5993 non-null   int64  \n",
            " 9   name          5993 non-null   object \n",
            "dtypes: float64(1), int64(3), object(6)\n",
            "memory usage: 515.0+ KB\n"
          ]
        },
        {
          "output_type": "stream",
          "name": "stderr",
          "text": [
            "<ipython-input-5-c05236222e65>:7: SettingWithCopyWarning: \n",
            "A value is trying to be set on a copy of a slice from a DataFrame.\n",
            "Try using .loc[row_indexer,col_indexer] = value instead\n",
            "\n",
            "See the caveats in the documentation: https://pandas.pydata.org/pandas-docs/stable/user_guide/indexing.html#returning-a-view-versus-a-copy\n",
            "  df[col] = pd.to_numeric(df[col], errors='coerce')\n",
            "<ipython-input-5-c05236222e65>:12: FutureWarning: A value is trying to be set on a copy of a DataFrame or Series through chained assignment using an inplace method.\n",
            "The behavior will change in pandas 3.0. This inplace method will never work because the intermediate object on which we are setting values always behaves as a copy.\n",
            "\n",
            "For example, when doing 'df[col].method(value, inplace=True)', try using 'df.method({col: value}, inplace=True)' or df[col] = df[col].method(value) instead, to perform the operation inplace on the original object.\n",
            "\n",
            "\n",
            "  df[\"genre_urls\"].fillna(\"\", inplace=True)\n",
            "<ipython-input-5-c05236222e65>:13: FutureWarning: A value is trying to be set on a copy of a DataFrame or Series through chained assignment using an inplace method.\n",
            "The behavior will change in pandas 3.0. This inplace method will never work because the intermediate object on which we are setting values always behaves as a copy.\n",
            "\n",
            "For example, when doing 'df[col].method(value, inplace=True)', try using 'df.method({col: value}, inplace=True)' or df[col] = df[col].method(value) instead, to perform the operation inplace on the original object.\n",
            "\n",
            "\n",
            "  df[\"isbn\"].fillna(\"\", inplace=True)\n"
          ]
        }
      ]
    },
    {
      "cell_type": "markdown",
      "source": [
        "# Part 2: Parsing and Completing the Data Frame"
      ],
      "metadata": {
        "id": "Hnwi9tuHjJ5w"
      }
    },
    {
      "cell_type": "code",
      "source": [
        "def get_author(url):\n",
        "    \"\"\"\n",
        "    Extracts and returns the author's name from the given author URL.\n",
        "    \"\"\"\n",
        "    try:\n",
        "        parts = url.split('/')\n",
        "        author_name = parts[-1].replace('-', ' ') if parts[-1] else parts[-2].replace('-', ' ')\n",
        "        return author_name\n",
        "    except Exception as e:\n",
        "        print(f\"Error processing URL {url}: {e}\")\n",
        "        return None\n",
        "\n",
        "# Apply the function to extract author names\n",
        "df['author'] = df['author_url'].map(get_author)"
      ],
      "metadata": {
        "id": "WsCeJmyRjM_y"
      },
      "execution_count": 6,
      "outputs": []
    },
    {
      "cell_type": "code",
      "source": [
        "def split_and_join_genres(url):\n",
        "    \"\"\"\n",
        "    Extracts and cleans genre names from a genre_url string.\n",
        "    \"\"\"\n",
        "    try:\n",
        "        genres = url.strip().split('|')\n",
        "        genre_names = [e.split('/')[-1].replace('-', ' ') for e in genres]\n",
        "        return \"|\".join(genre_names)\n",
        "    except Exception as e:\n",
        "        print(f\"Error processing genre URL {url}: {e}\")\n",
        "        return None\n",
        "\n",
        "# Apply the function to clean genre information\n",
        "df['genres'] = df['genre_urls'].map(split_and_join_genres)\n",
        "\n",
        "# Drop the 'genre_urls' column\n",
        "df.drop(columns=['genre_urls'], inplace=True)\n",
        "\n",
        "# Save the cleaned dataframe\n",
        "import os\n",
        "os.makedirs('data', exist_ok=True)\n",
        "df.to_csv(\"data/cleaned-goodreads.csv\", index=False)\n",
        "print(\"\\nCleaned dataframe has been saved to 'data/cleaned-goodreads.csv'.\")"
      ],
      "metadata": {
        "colab": {
          "base_uri": "https://localhost:8080/"
        },
        "id": "T86MU8vcjPtD",
        "outputId": "68ffc82a-7fd1-40d5-ad60-dd423e1b1b07"
      },
      "execution_count": 7,
      "outputs": [
        {
          "output_type": "stream",
          "name": "stdout",
          "text": [
            "\n",
            "Cleaned dataframe has been saved to 'data/cleaned-goodreads.csv'.\n"
          ]
        }
      ]
    },
    {
      "cell_type": "markdown",
      "source": [
        "# Part 3: Grouping and Analysis"
      ],
      "metadata": {
        "id": "8-am6ynwjYrx"
      }
    },
    {
      "cell_type": "code",
      "source": [
        "# Filter observations with negative years\n",
        "negative_years = df[df['year'] < 0]\n",
        "print(\"\\nBooks with negative years:\")\n",
        "print(negative_years)\n",
        "print(\"\\nNumber of books with negative years:\", len(negative_years))"
      ],
      "metadata": {
        "colab": {
          "base_uri": "https://localhost:8080/"
        },
        "id": "LXXyF1ynja9q",
        "outputId": "46dbe995-71b8-4401-9c3f-77637538339b"
      },
      "execution_count": 8,
      "outputs": [
        {
          "output_type": "stream",
          "name": "stdout",
          "text": [
            "\n",
            "Books with negative years:\n",
            "      rating  review_count        isbn         booktype                                         author_url  year                                                dir  rating_count                                  name             author                                             genres\n",
            "47      3.68          5785  0143039954  good_reads:book    https://www.goodreads.com/author/show/903.Homer  -800                        dir01/1381.The_Odyssey.html        560248                           The Odyssey          903.Homer  classics|fiction|poetry|fantasy|mythology|acad...\n",
            "246     4.01           365  0147712556  good_reads:book    https://www.goodreads.com/author/show/903.Homer  -800              dir03/1375.The_Iliad_The_Odyssey.html         35123                 The Iliad/The Odyssey          903.Homer  classics|fantasy|mythology|fantasy|academic|sc...\n",
            "455     3.85          1499  0140449140  good_reads:book    https://www.goodreads.com/author/show/879.Plato  -380                      dir05/30289.The_Republic.html         82022                          The Republic          879.Plato  philosophy|classics|non fiction|politics|histo...\n",
            "596     3.77          1240  0679729526  good_reads:book   https://www.goodreads.com/author/show/919.Virgil   -29                        dir06/12914.The_Aeneid.html         60308                            The Aeneid         919.Virgil  classics|poetry|fiction|fantasy|mythology|acad...\n",
            "629     3.64          1231  1580495931  good_reads:book  https://www.goodreads.com/author/show/1002.Sop...  -429                        dir07/1554.Oedipus_Rex.html         93192                           Oedipus Rex     1002.Sophocles  classics|plays|drama|fiction|academic|school|l...\n",
            "674     3.92          3559  1590302257  good_reads:book  https://www.goodreads.com/author/show/1771.Sun...  -512                    dir07/10534.The_Art_of_War.html        114619                        The Art of War       1771.Sun_Tzu  non fiction|politics|classics|literature|psych...\n",
            "746     4.06          1087  0140449183  good_reads:book  https://www.goodreads.com/author/show/5158478....  -500                 dir08/99944.The_Bhagavad_Gita.html         31634                     The Bhagavad Gita  5158478.Anonymous  classics|spirituality|religion|hinduism|fantas...\n",
            "777     3.52          1038  1580493882  good_reads:book  https://www.goodreads.com/author/show/1002.Sop...  -442                           dir08/7728.Antigone.html         49084                              Antigone     1002.Sophocles  drama|fiction|classics|academic|read for schoo...\n",
            "1233    3.94           704  015602764X  good_reads:book  https://www.goodreads.com/author/show/1002.Sop...  -400                  dir13/1540.The_Oedipus_Cycle.html         36008                     The Oedipus Cycle     1002.Sophocles  classics|plays|drama|fiction|literature|academ...\n",
            "1397    4.03           890  0192840509  good_reads:book  https://www.goodreads.com/author/show/12452.Aesop  -560                    dir14/21348.Aesop_s_Fables.html         71259                        Aesop's Fables        12452.Aesop  classics|childrens|literature|fantasy|fairy ta...\n",
            "1398    3.60          1644  0141026286  good_reads:book  https://www.goodreads.com/author/show/5158478.... -1500             dir14/19351.The_Epic_of_Gilgamesh.html         42026                 The Epic of Gilgamesh  5158478.Anonymous  religion|literature|ancient|academic|read for ...\n",
            "1428    3.80           539  0486275485  good_reads:book  https://www.goodreads.com/author/show/973.Euri...  -431                            dir15/752900.Medea.html         29858                                 Medea      973.Euripides  classics|plays|drama|fiction|fantasy|mythology...\n",
            "1815    3.96           493  0140443339  good_reads:book  https://www.goodreads.com/author/show/990.Aesc...  -458                       dir19/1519.The_Oresteia.html         18729                          The Oresteia      990.Aeschylus  classics|plays|drama|fiction|fantasy|mythology...\n",
            "1882    4.02           377  0872205541  good_reads:book    https://www.goodreads.com/author/show/879.Plato  -400   dir19/22632.The_Trial_and_Death_of_Socrates.html         18712       The Trial and Death of Socrates          879.Plato  philosophy|classics|non fiction|history|litera...\n",
            "2078    3.84           399  0140440399  good_reads:book  https://www.goodreads.com/author/show/957.Thuc...  -411  dir21/261243.The_History_of_the_Peloponnesian_...         17212  The History of the Peloponnesian War     957.Thucydides  history|classics|non fiction|war|war|military|...\n",
            "2527    3.94           506  0140449086  good_reads:book  https://www.goodreads.com/author/show/901.Hero...  -440                      dir26/1362.The_Histories.html         20570                         The Histories      901.Herodotus  history|classics|non fiction|cultural|greece|l...\n",
            "3133    4.30           131  0872203492  good_reads:book    https://www.goodreads.com/author/show/879.Plato  -400                     dir32/9462.Complete_Works.html          7454                        Complete Works          879.Plato  philosophy|classics|non fiction|history|litera...\n",
            "3274    3.88           411  0140449493  good_reads:book  https://www.goodreads.com/author/show/2192.Ari...  -350            dir33/19068.The_Nicomachean_Ethics.html         16534                The Nicomachean Ethics     2192.Aristotle  philosophy|classics|non fiction|politics|acade...\n",
            "3757    3.82           364  0872206033  good_reads:book  https://www.goodreads.com/author/show/1011.Ari...  -411                         dir38/1591.Lysistrata.html         18070                            Lysistrata  1011.Aristophanes  plays|classics|drama|fiction|plays|theatre|hum...\n",
            "4402    3.99           516  0140449272  good_reads:book    https://www.goodreads.com/author/show/879.Plato  -370                     dir45/81779.The_Symposium.html         18457                         The Symposium          879.Plato  non fiction|classics|philosophy|academic|schoo...\n",
            "4475    4.11           281  0865163480  good_reads:book    https://www.goodreads.com/author/show/879.Plato  -390                           dir45/73945.Apology.html         11478                               Apology          879.Plato  philosophy|classics|non fiction|history|academ...\n",
            "5367    4.07           133  0872206335  good_reads:book    https://www.goodreads.com/author/show/879.Plato  -360                    dir54/30292.Five_Dialogues.html          9964                        Five Dialogues          879.Plato  philosophy|classics|non fiction|academic|schoo...\n",
            "\n",
            "Number of books with negative years: 22\n"
          ]
        }
      ]
    },
    {
      "cell_type": "code",
      "source": [
        "# Group by 'author' and analyze statistics\n",
        "dfgb_author = df.groupby('author')\n",
        "author_stats = dfgb_author[['rating', 'rating_count', 'review_count', 'year']].describe()\n",
        "print(\"\\nAuthor statistics summary:\")\n",
        "print(author_stats)"
      ],
      "metadata": {
        "colab": {
          "base_uri": "https://localhost:8080/"
        },
        "id": "20pd1pJpje3G",
        "outputId": "4fb475f2-c434-4529-8d2f-46ea613d7efc"
      },
      "execution_count": 9,
      "outputs": [
        {
          "output_type": "stream",
          "name": "stdout",
          "text": [
            "\n",
            "Author statistics summary:\n",
            "                            rating                                                       rating_count                                                                               review_count                                                                  year                                                                  \n",
            "                             count      mean       std   min    25%    50%     75%   max        count          mean            std      min       25%      50%        75%       max        count    mean          std     min      25%     50%      75%      max count         mean        std     min      25%     50%      75%     max\n",
            "author                                                                                                                                                                                                                                                                                                                                  \n",
            "10003.Laurie_Halse_Anderson    4.0  3.907500  0.079739  3.82  3.850  3.915  3.9725  3.98          4.0  96815.000000  101516.391034  22628.0  46776.50  58900.5  108939.00  246831.0          4.0  6178.5  4872.144394  2143.0  3055.75  4769.0  7891.75  13033.0   4.0  2003.750000   4.991660  1999.0  1999.75  2003.5  2007.50  2009.0\n",
            "10006.Mary_Downing_Hahn        1.0  4.210000       NaN  4.21  4.210  4.210  4.2100  4.21          1.0   9199.000000            NaN   9199.0   9199.00   9199.0    9199.00    9199.0          1.0  1263.0          NaN  1263.0  1263.00  1263.0  1263.00   1263.0   1.0  2007.000000        NaN  2007.0  2007.00  2007.0  2007.00  2007.0\n",
            "10015.Kate_Atkinson            4.0  3.842500  0.112361  3.71  3.770  3.855  3.9275  3.95          4.0  40440.000000   33471.746364  15515.0  18187.25  29021.0   51273.75   88203.0          4.0  5087.0  5552.208209  1399.0  1876.00  2826.0  6037.00  13297.0   4.0  2005.000000   7.615773  1995.0  2001.75  2006.0  2009.25  2013.0\n",
            "10017.Sigmund_Freud            3.0  3.756667  0.049329  3.70  3.740  3.780  3.7850  3.79          3.0   7526.000000    6766.989803   3147.0   3629.00   4111.0    9715.50   15320.0          3.0   222.0   180.144387    94.0   119.00   144.0   286.00    428.0   3.0  1923.333333   9.073772  1913.0  1920.00  1927.0  1928.50  1930.0\n",
            "1002.Sophocles                 3.0  3.700000  0.216333  3.52  3.580  3.640  3.7900  3.94          3.0  59428.000000   29962.496825  36008.0  42546.00  49084.0   71138.00   93192.0          3.0   991.0   266.625205   704.0   871.00  1038.0  1134.50   1231.0   3.0  -423.666667  21.501938  -442.0  -435.50  -429.0  -414.50  -400.0\n",
            "...                            ...       ...       ...   ...    ...    ...     ...   ...          ...           ...            ...      ...       ...      ...        ...       ...          ...     ...          ...     ...      ...     ...      ...      ...   ...          ...        ...     ...      ...     ...      ...     ...\n",
            "9972.Julia_Glass               1.0  3.540000       NaN  3.54  3.540  3.540  3.5400  3.54          1.0  30234.000000            NaN  30234.0  30234.00  30234.0   30234.00   30234.0          1.0  1832.0          NaN  1832.0  1832.00  1832.0  1832.00   1832.0   1.0  2002.000000        NaN  2002.0  2002.00  2002.0  2002.00  2002.0\n",
            "99849.Esther_Forbes            1.0  3.560000       NaN  3.56  3.560  3.560  3.5600  3.56          1.0  23973.000000            NaN  23973.0  23973.00  23973.0   23973.00   23973.0          1.0  1400.0          NaN  1400.0  1400.00  1400.0  1400.00   1400.0   1.0  1943.000000        NaN  1943.0  1943.00  1943.0  1943.00  1943.0\n",
            "9987.Philippa_Gregory          7.0  3.718571  0.251358  3.25  3.655  3.800  3.8250  4.02          7.0  91456.142857  103847.313339  15219.0  40346.50  55234.0   85026.50  318994.0          7.0  4534.0  4396.255073  1346.0  2272.50  3369.0  4154.50  14169.0   7.0  2002.571429   7.322503  1987.0  2002.00  2005.0  2007.00  2008.0\n",
            "9993.Mark_Dunn                 1.0  3.820000       NaN  3.82  3.820  3.820  3.8200  3.82          1.0  15135.000000            NaN  15135.0  15135.00  15135.0   15135.00   15135.0          1.0  3034.0          NaN  3034.0  3034.00  3034.0  3034.00   3034.0   1.0  2001.000000        NaN  2001.0  2001.00  2001.0  2001.00  2001.0\n",
            "9996.Richard_Preston           1.0  4.070000       NaN  4.07  4.070  4.070  4.0700  4.07          1.0  50358.000000            NaN  50358.0  50358.00  50358.0   50358.00   50358.0          1.0  2606.0          NaN  2606.0  2606.00  2606.0  2606.00   2606.0   1.0  1993.000000        NaN  1993.0  1993.00  1993.0  1993.00  1993.0\n",
            "\n",
            "[2675 rows x 32 columns]\n"
          ]
        }
      ]
    },
    {
      "cell_type": "code",
      "source": [
        "# Group by 'year' to find the best-rated book each year\n",
        "best_books = df.loc[df.groupby('year')['rating'].idxmax()]\n",
        "print(\"\\nBest-rated books for each year:\")\n",
        "print(best_books)"
      ],
      "metadata": {
        "colab": {
          "base_uri": "https://localhost:8080/"
        },
        "id": "bbvfPodUjhir",
        "outputId": "f5714dbc-546e-4047-91e8-dc050547f28e"
      },
      "execution_count": 10,
      "outputs": [
        {
          "output_type": "stream",
          "name": "stdout",
          "text": [
            "\n",
            "Best-rated books for each year:\n",
            "      rating  review_count        isbn         booktype                                         author_url  year                                                dir  rating_count                              name                              author                                             genres\n",
            "1398    3.60          1644  0141026286  good_reads:book  https://www.goodreads.com/author/show/5158478.... -1500             dir14/19351.The_Epic_of_Gilgamesh.html         42026             The Epic of Gilgamesh                   5158478.Anonymous  religion|literature|ancient|academic|read for ...\n",
            "246     4.01           365  0147712556  good_reads:book    https://www.goodreads.com/author/show/903.Homer  -800              dir03/1375.The_Iliad_The_Odyssey.html         35123             The Iliad/The Odyssey                           903.Homer  classics|fantasy|mythology|fantasy|academic|sc...\n",
            "1397    4.03           890  0192840509  good_reads:book  https://www.goodreads.com/author/show/12452.Aesop  -560                    dir14/21348.Aesop_s_Fables.html         71259                    Aesop's Fables                         12452.Aesop  classics|childrens|literature|fantasy|fairy ta...\n",
            "674     3.92          3559  1590302257  good_reads:book  https://www.goodreads.com/author/show/1771.Sun...  -512                    dir07/10534.The_Art_of_War.html        114619                    The Art of War                        1771.Sun_Tzu  non fiction|politics|classics|literature|psych...\n",
            "746     4.06          1087  0140449183  good_reads:book  https://www.goodreads.com/author/show/5158478....  -500                 dir08/99944.The_Bhagavad_Gita.html         31634                 The Bhagavad Gita                   5158478.Anonymous  classics|spirituality|religion|hinduism|fantas...\n",
            "...      ...           ...         ...              ...                                                ...   ...                                                ...           ...                               ...                                 ...                                                ...\n",
            "2920    4.93             6  1453634819  good_reads:book  https://www.goodreads.com/author/show/4808225....  2010            dir30/11187861-the-years-distilled.html            28               The Years Distilled               4808225.Dennis_Sharpe                                                   \n",
            "2909    5.00             0  0983002215  good_reads:book  https://www.goodreads.com/author/show/6589034....  2011                 dir30/16200303-family-secrets.html             9                    Family Secrets              6589034.Rebekah_McClew                                                   \n",
            "2145    5.00             3  1300589469  good_reads:book  https://www.goodreads.com/author/show/6906561....  2012  dir22/17287259-a-book-about-absolutely-nothing...            63  A Book About Absolutely Nothing.                  6906561.I_M_Nobody                                                   \n",
            "3712    4.93             7  1781843457  good_reads:book  https://www.goodreads.com/author/show/5014793....  2013                    dir38/18080358-blade-heart.html            15                       Blade Heart                 5014793.Chris_Lange  fantasy|romance|suspense|adventure|romance|fan...\n",
            "1718    5.00            28              good_reads:book  https://www.goodreads.com/author/show/6467808....  2014     dir18/22204746-an-elephant-is-on-my-house.html            64        An Elephant Is On My House  6467808.Othen_Donald_Dale_Cummings                                   poetry|childrens\n",
            "\n",
            "[293 rows x 11 columns]\n"
          ]
        }
      ]
    },
    {
      "cell_type": "code",
      "source": [
        "# Save best-rated books by year to a CSV file\n",
        "best_books.to_csv(\"data/best_books_by_year.csv\", index=False)\n",
        "print(\"\\nBest-rated books by year have been saved to 'data/best_books_by_year.csv'.\")"
      ],
      "metadata": {
        "colab": {
          "base_uri": "https://localhost:8080/"
        },
        "id": "s_AMgO7wjpRv",
        "outputId": "ba6efec0-7148-4a2a-dbda-3e5bb9dabb0e"
      },
      "execution_count": 11,
      "outputs": [
        {
          "output_type": "stream",
          "name": "stdout",
          "text": [
            "\n",
            "Best-rated books by year have been saved to 'data/best_books_by_year.csv'.\n"
          ]
        }
      ]
    }
  ]
}